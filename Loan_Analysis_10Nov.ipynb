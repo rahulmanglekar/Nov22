{
  "nbformat": 4,
  "nbformat_minor": 0,
  "metadata": {
    "colab": {
      "provenance": []
    },
    "kernelspec": {
      "name": "python3",
      "display_name": "Python 3"
    },
    "language_info": {
      "name": "python"
    }
  },
  "cells": [
    {
      "cell_type": "code",
      "execution_count": 1,
      "metadata": {
        "id": "y9Vw1sU-vRfe"
      },
      "outputs": [],
      "source": [
        "#Load the libraryss\n",
        "import pandas as pd #To work with dataset\n",
        "import numpy as np #Math library\n",
        "import seaborn as sns #Graph library that use matplot in background\n",
        "import matplotlib.pyplot as plt #to plot some parameters in seaborn\n",
        "import matplotlib as mlp"
      ]
    },
    {
      "cell_type": "code",
      "source": [
        "sns.__version__"
      ],
      "metadata": {
        "colab": {
          "base_uri": "https://localhost:8080/",
          "height": 35
        },
        "id": "X7QUS7F_Qxot",
        "outputId": "ff5b735d-6f51-4910-a31e-ba94a6fbe64e"
      },
      "execution_count": 2,
      "outputs": [
        {
          "output_type": "execute_result",
          "data": {
            "text/plain": [
              "'0.11.2'"
            ],
            "application/vnd.google.colaboratory.intrinsic+json": {
              "type": "string"
            }
          },
          "metadata": {},
          "execution_count": 2
        }
      ]
    },
    {
      "cell_type": "code",
      "source": [
        "np.__version__"
      ],
      "metadata": {
        "colab": {
          "base_uri": "https://localhost:8080/",
          "height": 35
        },
        "id": "zx454toLQzu-",
        "outputId": "f8e537b6-f670-4a13-9038-db3119e41ce3"
      },
      "execution_count": 3,
      "outputs": [
        {
          "output_type": "execute_result",
          "data": {
            "text/plain": [
              "'1.21.6'"
            ],
            "application/vnd.google.colaboratory.intrinsic+json": {
              "type": "string"
            }
          },
          "metadata": {},
          "execution_count": 3
        }
      ]
    },
    {
      "cell_type": "code",
      "source": [
        "pd.__version__"
      ],
      "metadata": {
        "colab": {
          "base_uri": "https://localhost:8080/",
          "height": 35
        },
        "id": "plU4IPiYRLoS",
        "outputId": "fe9ab880-df26-4fc2-904f-3fb56a93065d"
      },
      "execution_count": 4,
      "outputs": [
        {
          "output_type": "execute_result",
          "data": {
            "text/plain": [
              "'1.3.5'"
            ],
            "application/vnd.google.colaboratory.intrinsic+json": {
              "type": "string"
            }
          },
          "metadata": {},
          "execution_count": 4
        }
      ]
    },
    {
      "cell_type": "code",
      "source": [
        "mlp.__version__"
      ],
      "metadata": {
        "colab": {
          "base_uri": "https://localhost:8080/",
          "height": 35
        },
        "id": "SK6KPUNVRcMy",
        "outputId": "29bd4306-1dc6-409b-e174-ba39d288da4a"
      },
      "execution_count": 5,
      "outputs": [
        {
          "output_type": "execute_result",
          "data": {
            "text/plain": [
              "'3.2.2'"
            ],
            "application/vnd.google.colaboratory.intrinsic+json": {
              "type": "string"
            }
          },
          "metadata": {},
          "execution_count": 5
        }
      ]
    },
    {
      "cell_type": "code",
      "source": [
        "from google.colab import drive\n",
        "drive.mount('/content/drive')\n"
      ],
      "metadata": {
        "colab": {
          "base_uri": "https://localhost:8080/"
        },
        "id": "pJBWJo56vaAp",
        "outputId": "2f7e036b-b838-4bfd-82fe-4bbd9fa86e01"
      },
      "execution_count": 6,
      "outputs": [
        {
          "output_type": "stream",
          "name": "stdout",
          "text": [
            "Mounted at /content/drive\n"
          ]
        }
      ]
    },
    {
      "cell_type": "code",
      "source": [
        "# load dataset\n",
        "loan0 = pd.read_csv(\"/content/drive/MyDrive/1upgradsheets/loan2.csv\")"
      ],
      "metadata": {
        "id": "TttRteAEvj2z",
        "colab": {
          "base_uri": "https://localhost:8080/"
        },
        "outputId": "793ea2e0-6f7f-469e-f292-c94e3ddff492"
      },
      "execution_count": 7,
      "outputs": [
        {
          "output_type": "stream",
          "name": "stderr",
          "text": [
            "/usr/local/lib/python3.7/dist-packages/IPython/core/interactiveshell.py:3326: DtypeWarning: Columns (88) have mixed types.Specify dtype option on import or set low_memory=False.\n",
            "  exec(code_obj, self.user_global_ns, self.user_ns)\n"
          ]
        }
      ]
    },
    {
      "cell_type": "code",
      "source": [
        "\n",
        "loan0.info()"
      ],
      "metadata": {
        "colab": {
          "base_uri": "https://localhost:8080/"
        },
        "id": "Ns4jXRi0vpjx",
        "outputId": "230454a4-ca3a-4213-d1c9-7bb15c3454dd"
      },
      "execution_count": 8,
      "outputs": [
        {
          "output_type": "stream",
          "name": "stdout",
          "text": [
            "<class 'pandas.core.frame.DataFrame'>\n",
            "RangeIndex: 15854 entries, 0 to 15853\n",
            "Columns: 111 entries, id to total_il_high_credit_limit\n",
            "dtypes: float64(71), int64(15), object(25)\n",
            "memory usage: 13.4+ MB\n"
          ]
        }
      ]
    },
    {
      "cell_type": "code",
      "source": [
        "loan0.shape"
      ],
      "metadata": {
        "colab": {
          "base_uri": "https://localhost:8080/"
        },
        "id": "EGVMDoOqvsoJ",
        "outputId": "235dff99-cea2-475e-a0e6-7753f850f789"
      },
      "execution_count": 9,
      "outputs": [
        {
          "output_type": "execute_result",
          "data": {
            "text/plain": [
              "(15854, 111)"
            ]
          },
          "metadata": {},
          "execution_count": 9
        }
      ]
    },
    {
      "cell_type": "markdown",
      "source": [
        "\n",
        "### **Data Cleaning**\n",
        " "
      ],
      "metadata": {
        "id": "YxRxeuYe4OqD"
      }
    },
    {
      "cell_type": "code",
      "source": [
        "# Deleting customer behavouor data\n",
        "\n",
        "loan0 = loan0.drop(columns =['delinq_2yrs','earliest_cr_line','inq_last_6mths','open_acc','pub_rec','revol_bal','revol_util','total_acc','out_prncp',\n",
        "                             'out_prncp_inv','total_pymnt','total_pymnt_inv','total_rec_prncp','total_rec_int','total_rec_late_fee','recoveries',\n",
        "                             'collection_recovery_fee','last_pymnt_d','last_pymnt_amnt','last_credit_pull_d','application_type'])"
      ],
      "metadata": {
        "id": "7Ur9vI-wxPoq"
      },
      "execution_count": 10,
      "outputs": []
    },
    {
      "cell_type": "code",
      "source": [
        "# Deleting unwanted data\n",
        "loan0 = loan0.drop(columns=['id','member_id','emp_title','url','zip_code','addr_state','title','issue_d','initial_list_status','policy_code','pymnt_plan','tax_liens'])"
      ],
      "metadata": {
        "id": "DtAUxQT7xele"
      },
      "execution_count": 11,
      "outputs": []
    },
    {
      "cell_type": "code",
      "source": [
        "# Drop Columns where all values are NA.\n",
        "\n",
        "loan0.dropna(how='all',axis=1, inplace=True)"
      ],
      "metadata": {
        "id": "TF1TgY8wyRuD"
      },
      "execution_count": 12,
      "outputs": []
    },
    {
      "cell_type": "code",
      "source": [
        "loan0.shape"
      ],
      "metadata": {
        "colab": {
          "base_uri": "https://localhost:8080/"
        },
        "id": "AjYGa1U8ClcG",
        "outputId": "dce85862-ad92-48aa-9b09-c89d71e31261"
      },
      "execution_count": 13,
      "outputs": [
        {
          "output_type": "execute_result",
          "data": {
            "text/plain": [
              "(15854, 25)"
            ]
          },
          "metadata": {},
          "execution_count": 13
        }
      ]
    },
    {
      "cell_type": "code",
      "source": [
        "# Drop Columns where all values are 0.\n",
        "loan0 = loan0.loc[:, (loan0 != 0).any(axis=0)]"
      ],
      "metadata": {
        "id": "j1NTAq50-Jwp"
      },
      "execution_count": 14,
      "outputs": []
    },
    {
      "cell_type": "code",
      "source": [
        "# Delete data rows with Current Loan Status\n",
        "loan0 = loan0[~loan0['loan_status'].isin(['Current'])]"
      ],
      "metadata": {
        "id": "ewfLFbV1_BeE"
      },
      "execution_count": 15,
      "outputs": []
    },
    {
      "cell_type": "code",
      "source": [
        "# Check if any values are null\n",
        "\n",
        "loan0.isnull().sum()"
      ],
      "metadata": {
        "colab": {
          "base_uri": "https://localhost:8080/"
        },
        "id": "i5dY7eHPz9Nb",
        "outputId": "eb100289-b6b0-49a4-beae-3454cfd11663"
      },
      "execution_count": 16,
      "outputs": [
        {
          "output_type": "execute_result",
          "data": {
            "text/plain": [
              "loan_amnt                             0\n",
              "funded_amnt                           0\n",
              "funded_amnt_inv                       0\n",
              "term                                  0\n",
              "int_rate                              0\n",
              "installment                           0\n",
              "grade                                 0\n",
              "sub_grade                             0\n",
              "emp_length                          514\n",
              "home_ownership                        0\n",
              "annual_inc                            0\n",
              "verification_status                   0\n",
              "loan_status                           0\n",
              "desc                               6129\n",
              "purpose                               0\n",
              "dti                                   0\n",
              "mths_since_last_delinq             9763\n",
              "mths_since_last_record            13947\n",
              "next_pymnt_d                      14720\n",
              "mths_since_recent_revol_delinq    14719\n",
              "pub_rec_bankruptcies                  1\n",
              "dtype: int64"
            ]
          },
          "metadata": {},
          "execution_count": 16
        }
      ]
    },
    {
      "cell_type": "code",
      "source": [
        "# Delete Columns with high Missing Values\n",
        "loan0 = loan0.drop(columns =['desc','mths_since_last_delinq','mths_since_last_record','next_pymnt_d','mths_since_recent_revol_delinq'])"
      ],
      "metadata": {
        "id": "XZAbO4cr-kWh"
      },
      "execution_count": 17,
      "outputs": []
    },
    {
      "cell_type": "markdown",
      "source": [
        "\n",
        "### **Data Checking**\n",
        "\n"
      ],
      "metadata": {
        "id": "Ljj-xYcV4qKH"
      }
    },
    {
      "cell_type": "code",
      "source": [
        "# Checking Missing Values\n",
        "\n",
        "loan0['pub_rec_bankruptcies'].value_counts()"
      ],
      "metadata": {
        "colab": {
          "base_uri": "https://localhost:8080/"
        },
        "id": "4ziz7Y8jAH8O",
        "outputId": "0dfed7d0-82cc-406f-96fd-8707f24cca9b"
      },
      "execution_count": 18,
      "outputs": [
        {
          "output_type": "execute_result",
          "data": {
            "text/plain": [
              "0.0    14070\n",
              "1.0      648\n",
              "2.0        1\n",
              "Name: pub_rec_bankruptcies, dtype: int64"
            ]
          },
          "metadata": {},
          "execution_count": 18
        }
      ]
    },
    {
      "cell_type": "code",
      "source": [
        "# Filling zero in missing places\n",
        "loan0['pub_rec_bankruptcies'] = loan0['pub_rec_bankruptcies'].fillna(0)"
      ],
      "metadata": {
        "id": "7Z49ZzkRAufp"
      },
      "execution_count": 19,
      "outputs": []
    },
    {
      "cell_type": "code",
      "source": [
        "loan0['emp_length'].value_counts()"
      ],
      "metadata": {
        "colab": {
          "base_uri": "https://localhost:8080/"
        },
        "id": "nPKdwclMA-Uv",
        "outputId": "f694e14c-dd32-425a-c8be-4c97e1cb4390"
      },
      "execution_count": 20,
      "outputs": [
        {
          "output_type": "execute_result",
          "data": {
            "text/plain": [
              "10+ years    3644\n",
              "2 years      1445\n",
              "3 years      1401\n",
              "< 1 year     1364\n",
              "5 years      1293\n",
              "4 years      1256\n",
              "1 year       1073\n",
              "6 years       988\n",
              "7 years       731\n",
              "8 years       557\n",
              "9 years       454\n",
              "Name: emp_length, dtype: int64"
            ]
          },
          "metadata": {},
          "execution_count": 20
        }
      ]
    },
    {
      "cell_type": "code",
      "source": [
        "loan0.emp_length.isnull().sum()"
      ],
      "metadata": {
        "colab": {
          "base_uri": "https://localhost:8080/"
        },
        "id": "N-jwpxUCEArf",
        "outputId": "f8ed701a-ceae-4029-8240-a16ea1524aaa"
      },
      "execution_count": 21,
      "outputs": [
        {
          "output_type": "execute_result",
          "data": {
            "text/plain": [
              "514"
            ]
          },
          "metadata": {},
          "execution_count": 21
        }
      ]
    },
    {
      "cell_type": "code",
      "source": [
        "# Delete row with missing values\n",
        "loan0 = loan0[~loan0['emp_length'].isnull()]"
      ],
      "metadata": {
        "id": "Vj-nBstaFBZQ"
      },
      "execution_count": 22,
      "outputs": []
    },
    {
      "cell_type": "code",
      "source": [
        "# There are no null values\n",
        "\n",
        "loan0.isnull().sum()"
      ],
      "metadata": {
        "colab": {
          "base_uri": "https://localhost:8080/"
        },
        "id": "Jqg6zCxBFPlT",
        "outputId": "7cea33a6-575b-4130-b6db-62c7b2b6564d"
      },
      "execution_count": 23,
      "outputs": [
        {
          "output_type": "execute_result",
          "data": {
            "text/plain": [
              "loan_amnt               0\n",
              "funded_amnt             0\n",
              "funded_amnt_inv         0\n",
              "term                    0\n",
              "int_rate                0\n",
              "installment             0\n",
              "grade                   0\n",
              "sub_grade               0\n",
              "emp_length              0\n",
              "home_ownership          0\n",
              "annual_inc              0\n",
              "verification_status     0\n",
              "loan_status             0\n",
              "purpose                 0\n",
              "dti                     0\n",
              "pub_rec_bankruptcies    0\n",
              "dtype: int64"
            ]
          },
          "metadata": {},
          "execution_count": 23
        }
      ]
    },
    {
      "cell_type": "markdown",
      "source": [
        "**Sanity Checks**"
      ],
      "metadata": {
        "id": "koLvLJ937UiP"
      }
    },
    {
      "cell_type": "code",
      "source": [
        "# Compare if columns have similar values\n",
        "loan0['loan_amnt'].equals(loan0['funded_amnt'])"
      ],
      "metadata": {
        "colab": {
          "base_uri": "https://localhost:8080/"
        },
        "id": "P9dJ9rO4GXU-",
        "outputId": "ee7a34b1-79d1-4cc1-fef4-738648390905"
      },
      "execution_count": 24,
      "outputs": [
        {
          "output_type": "execute_result",
          "data": {
            "text/plain": [
              "False"
            ]
          },
          "metadata": {},
          "execution_count": 24
        }
      ]
    },
    {
      "cell_type": "code",
      "source": [
        "s1 = loan0['loan_amnt']\n",
        "s2 = loan0['funded_amnt']\n",
        "\n",
        "s1.compare(s2)"
      ],
      "metadata": {
        "colab": {
          "base_uri": "https://localhost:8080/",
          "height": 424
        },
        "id": "j1GgVd86Hjxq",
        "outputId": "8f390f1d-2b10-441c-944a-7b9835a9218f"
      },
      "execution_count": 25,
      "outputs": [
        {
          "output_type": "execute_result",
          "data": {
            "text/plain": [
              "          self    other\n",
              "61     17500.0   8950.0\n",
              "66     12500.0   8925.0\n",
              "70     20975.0  13575.0\n",
              "77      7250.0   7200.0\n",
              "80     35000.0  22075.0\n",
              "...        ...      ...\n",
              "15724  28800.0  20325.0\n",
              "15725  25000.0  16550.0\n",
              "15735  25000.0  18325.0\n",
              "15781  25000.0  21200.0\n",
              "15853  19600.0  12825.0\n",
              "\n",
              "[487 rows x 2 columns]"
            ],
            "text/html": [
              "\n",
              "  <div id=\"df-a84c50a5-8e00-48d7-b8e5-843eb182bc6d\">\n",
              "    <div class=\"colab-df-container\">\n",
              "      <div>\n",
              "<style scoped>\n",
              "    .dataframe tbody tr th:only-of-type {\n",
              "        vertical-align: middle;\n",
              "    }\n",
              "\n",
              "    .dataframe tbody tr th {\n",
              "        vertical-align: top;\n",
              "    }\n",
              "\n",
              "    .dataframe thead th {\n",
              "        text-align: right;\n",
              "    }\n",
              "</style>\n",
              "<table border=\"1\" class=\"dataframe\">\n",
              "  <thead>\n",
              "    <tr style=\"text-align: right;\">\n",
              "      <th></th>\n",
              "      <th>self</th>\n",
              "      <th>other</th>\n",
              "    </tr>\n",
              "  </thead>\n",
              "  <tbody>\n",
              "    <tr>\n",
              "      <th>61</th>\n",
              "      <td>17500.0</td>\n",
              "      <td>8950.0</td>\n",
              "    </tr>\n",
              "    <tr>\n",
              "      <th>66</th>\n",
              "      <td>12500.0</td>\n",
              "      <td>8925.0</td>\n",
              "    </tr>\n",
              "    <tr>\n",
              "      <th>70</th>\n",
              "      <td>20975.0</td>\n",
              "      <td>13575.0</td>\n",
              "    </tr>\n",
              "    <tr>\n",
              "      <th>77</th>\n",
              "      <td>7250.0</td>\n",
              "      <td>7200.0</td>\n",
              "    </tr>\n",
              "    <tr>\n",
              "      <th>80</th>\n",
              "      <td>35000.0</td>\n",
              "      <td>22075.0</td>\n",
              "    </tr>\n",
              "    <tr>\n",
              "      <th>...</th>\n",
              "      <td>...</td>\n",
              "      <td>...</td>\n",
              "    </tr>\n",
              "    <tr>\n",
              "      <th>15724</th>\n",
              "      <td>28800.0</td>\n",
              "      <td>20325.0</td>\n",
              "    </tr>\n",
              "    <tr>\n",
              "      <th>15725</th>\n",
              "      <td>25000.0</td>\n",
              "      <td>16550.0</td>\n",
              "    </tr>\n",
              "    <tr>\n",
              "      <th>15735</th>\n",
              "      <td>25000.0</td>\n",
              "      <td>18325.0</td>\n",
              "    </tr>\n",
              "    <tr>\n",
              "      <th>15781</th>\n",
              "      <td>25000.0</td>\n",
              "      <td>21200.0</td>\n",
              "    </tr>\n",
              "    <tr>\n",
              "      <th>15853</th>\n",
              "      <td>19600.0</td>\n",
              "      <td>12825.0</td>\n",
              "    </tr>\n",
              "  </tbody>\n",
              "</table>\n",
              "<p>487 rows × 2 columns</p>\n",
              "</div>\n",
              "      <button class=\"colab-df-convert\" onclick=\"convertToInteractive('df-a84c50a5-8e00-48d7-b8e5-843eb182bc6d')\"\n",
              "              title=\"Convert this dataframe to an interactive table.\"\n",
              "              style=\"display:none;\">\n",
              "        \n",
              "  <svg xmlns=\"http://www.w3.org/2000/svg\" height=\"24px\"viewBox=\"0 0 24 24\"\n",
              "       width=\"24px\">\n",
              "    <path d=\"M0 0h24v24H0V0z\" fill=\"none\"/>\n",
              "    <path d=\"M18.56 5.44l.94 2.06.94-2.06 2.06-.94-2.06-.94-.94-2.06-.94 2.06-2.06.94zm-11 1L8.5 8.5l.94-2.06 2.06-.94-2.06-.94L8.5 2.5l-.94 2.06-2.06.94zm10 10l.94 2.06.94-2.06 2.06-.94-2.06-.94-.94-2.06-.94 2.06-2.06.94z\"/><path d=\"M17.41 7.96l-1.37-1.37c-.4-.4-.92-.59-1.43-.59-.52 0-1.04.2-1.43.59L10.3 9.45l-7.72 7.72c-.78.78-.78 2.05 0 2.83L4 21.41c.39.39.9.59 1.41.59.51 0 1.02-.2 1.41-.59l7.78-7.78 2.81-2.81c.8-.78.8-2.07 0-2.86zM5.41 20L4 18.59l7.72-7.72 1.47 1.35L5.41 20z\"/>\n",
              "  </svg>\n",
              "      </button>\n",
              "      \n",
              "  <style>\n",
              "    .colab-df-container {\n",
              "      display:flex;\n",
              "      flex-wrap:wrap;\n",
              "      gap: 12px;\n",
              "    }\n",
              "\n",
              "    .colab-df-convert {\n",
              "      background-color: #E8F0FE;\n",
              "      border: none;\n",
              "      border-radius: 50%;\n",
              "      cursor: pointer;\n",
              "      display: none;\n",
              "      fill: #1967D2;\n",
              "      height: 32px;\n",
              "      padding: 0 0 0 0;\n",
              "      width: 32px;\n",
              "    }\n",
              "\n",
              "    .colab-df-convert:hover {\n",
              "      background-color: #E2EBFA;\n",
              "      box-shadow: 0px 1px 2px rgba(60, 64, 67, 0.3), 0px 1px 3px 1px rgba(60, 64, 67, 0.15);\n",
              "      fill: #174EA6;\n",
              "    }\n",
              "\n",
              "    [theme=dark] .colab-df-convert {\n",
              "      background-color: #3B4455;\n",
              "      fill: #D2E3FC;\n",
              "    }\n",
              "\n",
              "    [theme=dark] .colab-df-convert:hover {\n",
              "      background-color: #434B5C;\n",
              "      box-shadow: 0px 1px 3px 1px rgba(0, 0, 0, 0.15);\n",
              "      filter: drop-shadow(0px 1px 2px rgba(0, 0, 0, 0.3));\n",
              "      fill: #FFFFFF;\n",
              "    }\n",
              "  </style>\n",
              "\n",
              "      <script>\n",
              "        const buttonEl =\n",
              "          document.querySelector('#df-a84c50a5-8e00-48d7-b8e5-843eb182bc6d button.colab-df-convert');\n",
              "        buttonEl.style.display =\n",
              "          google.colab.kernel.accessAllowed ? 'block' : 'none';\n",
              "\n",
              "        async function convertToInteractive(key) {\n",
              "          const element = document.querySelector('#df-a84c50a5-8e00-48d7-b8e5-843eb182bc6d');\n",
              "          const dataTable =\n",
              "            await google.colab.kernel.invokeFunction('convertToInteractive',\n",
              "                                                     [key], {});\n",
              "          if (!dataTable) return;\n",
              "\n",
              "          const docLinkHtml = 'Like what you see? Visit the ' +\n",
              "            '<a target=\"_blank\" href=https://colab.research.google.com/notebooks/data_table.ipynb>data table notebook</a>'\n",
              "            + ' to learn more about interactive tables.';\n",
              "          element.innerHTML = '';\n",
              "          dataTable['output_type'] = 'display_data';\n",
              "          await google.colab.output.renderOutput(dataTable, element);\n",
              "          const docLink = document.createElement('div');\n",
              "          docLink.innerHTML = docLinkHtml;\n",
              "          element.appendChild(docLink);\n",
              "        }\n",
              "      </script>\n",
              "    </div>\n",
              "  </div>\n",
              "  "
            ]
          },
          "metadata": {},
          "execution_count": 25
        }
      ]
    },
    {
      "cell_type": "code",
      "source": [
        "loan0.info()"
      ],
      "metadata": {
        "colab": {
          "base_uri": "https://localhost:8080/"
        },
        "id": "DGUIuoPDINKw",
        "outputId": "7a5edff6-e169-4c10-f23b-3a022c83f9d0"
      },
      "execution_count": 26,
      "outputs": [
        {
          "output_type": "stream",
          "name": "stdout",
          "text": [
            "<class 'pandas.core.frame.DataFrame'>\n",
            "Int64Index: 14206 entries, 0 to 15853\n",
            "Data columns (total 16 columns):\n",
            " #   Column                Non-Null Count  Dtype  \n",
            "---  ------                --------------  -----  \n",
            " 0   loan_amnt             14206 non-null  int64  \n",
            " 1   funded_amnt           14206 non-null  int64  \n",
            " 2   funded_amnt_inv       14206 non-null  float64\n",
            " 3   term                  14206 non-null  object \n",
            " 4   int_rate              14206 non-null  object \n",
            " 5   installment           14206 non-null  float64\n",
            " 6   grade                 14206 non-null  object \n",
            " 7   sub_grade             14206 non-null  object \n",
            " 8   emp_length            14206 non-null  object \n",
            " 9   home_ownership        14206 non-null  object \n",
            " 10  annual_inc            14206 non-null  float64\n",
            " 11  verification_status   14206 non-null  object \n",
            " 12  loan_status           14206 non-null  object \n",
            " 13  purpose               14206 non-null  object \n",
            " 14  dti                   14206 non-null  float64\n",
            " 15  pub_rec_bankruptcies  14206 non-null  float64\n",
            "dtypes: float64(5), int64(2), object(9)\n",
            "memory usage: 1.8+ MB\n"
          ]
        }
      ]
    },
    {
      "cell_type": "markdown",
      "source": [
        "Converting Data Type and correcting values\n",
        "\n"
      ],
      "metadata": {
        "id": "yaKBU2Q-5wYB"
      }
    },
    {
      "cell_type": "code",
      "source": [
        "# remove % symbol from Interest rate column\n",
        "loan0['int_rate'] = loan0.int_rate.apply(lambda x: 0 if x==\"0\" else float(x[:-1]))"
      ],
      "metadata": {
        "id": "gt2Y4-lVQQeK"
      },
      "execution_count": 27,
      "outputs": []
    },
    {
      "cell_type": "code",
      "source": [
        "# remove year wold from employee lenght column \n",
        "\n",
        "def emp_length_convert(loan0, column):\n",
        "    loan0[column] = loan0[column].str.replace('\\+ years', '')\n",
        "    loan0[column] = loan0[column].str.replace('< 1 year', str(0))\n",
        "    loan0[column] = loan0[column].str.replace(' years', '')\n",
        "    loan0[column] = loan0[column].str.replace(' year', '')\n",
        "    loan0[column] = pd.to_numeric(loan0[column])\n",
        "    loan0[column].fillna(value = 0, inplace = True)\n",
        "\n",
        "emp_length_convert(loan0,'emp_length')"
      ],
      "metadata": {
        "id": "19N4AxLmQdtd",
        "colab": {
          "base_uri": "https://localhost:8080/"
        },
        "outputId": "ddfbe7eb-171a-4cf8-e4fe-260e4ada4c35"
      },
      "execution_count": 28,
      "outputs": [
        {
          "output_type": "stream",
          "name": "stderr",
          "text": [
            "/usr/local/lib/python3.7/dist-packages/ipykernel_launcher.py:4: FutureWarning: The default value of regex will change from True to False in a future version.\n",
            "  after removing the cwd from sys.path.\n"
          ]
        }
      ]
    },
    {
      "cell_type": "code",
      "source": [
        "loan0.info()"
      ],
      "metadata": {
        "colab": {
          "base_uri": "https://localhost:8080/"
        },
        "id": "CZvj3F4jUqaA",
        "outputId": "668212b4-0d17-47a8-d54f-d6d2eabeac18"
      },
      "execution_count": 29,
      "outputs": [
        {
          "output_type": "stream",
          "name": "stdout",
          "text": [
            "<class 'pandas.core.frame.DataFrame'>\n",
            "Int64Index: 14206 entries, 0 to 15853\n",
            "Data columns (total 16 columns):\n",
            " #   Column                Non-Null Count  Dtype  \n",
            "---  ------                --------------  -----  \n",
            " 0   loan_amnt             14206 non-null  int64  \n",
            " 1   funded_amnt           14206 non-null  int64  \n",
            " 2   funded_amnt_inv       14206 non-null  float64\n",
            " 3   term                  14206 non-null  object \n",
            " 4   int_rate              14206 non-null  float64\n",
            " 5   installment           14206 non-null  float64\n",
            " 6   grade                 14206 non-null  object \n",
            " 7   sub_grade             14206 non-null  object \n",
            " 8   emp_length            14206 non-null  int64  \n",
            " 9   home_ownership        14206 non-null  object \n",
            " 10  annual_inc            14206 non-null  float64\n",
            " 11  verification_status   14206 non-null  object \n",
            " 12  loan_status           14206 non-null  object \n",
            " 13  purpose               14206 non-null  object \n",
            " 14  dti                   14206 non-null  float64\n",
            " 15  pub_rec_bankruptcies  14206 non-null  float64\n",
            "dtypes: float64(6), int64(3), object(7)\n",
            "memory usage: 1.8+ MB\n"
          ]
        }
      ]
    },
    {
      "cell_type": "markdown",
      "source": [
        "employee expirence converted to int\n"
      ],
      "metadata": {
        "id": "84i20LCQ8Guf"
      }
    },
    {
      "cell_type": "code",
      "source": [
        "loan0.emp_length.describe()"
      ],
      "metadata": {
        "colab": {
          "base_uri": "https://localhost:8080/"
        },
        "id": "CYao9Tv_UuTL",
        "outputId": "703afa1e-90e4-4ebd-d57e-c4b2ad6d7176"
      },
      "execution_count": 30,
      "outputs": [
        {
          "output_type": "execute_result",
          "data": {
            "text/plain": [
              "count    14206.000000\n",
              "mean         5.327467\n",
              "std          3.528918\n",
              "min          0.000000\n",
              "25%          2.000000\n",
              "50%          5.000000\n",
              "75%         10.000000\n",
              "max         10.000000\n",
              "Name: emp_length, dtype: float64"
            ]
          },
          "metadata": {},
          "execution_count": 30
        }
      ]
    },
    {
      "cell_type": "code",
      "source": [
        "# Remove months world from Term Column\n",
        "loan0['term'] = loan0.term.apply(lambda x: 0 if x==\"0\" else int(x[:-7]))\n",
        "\n"
      ],
      "metadata": {
        "id": "aKXnfuDUUwtj"
      },
      "execution_count": 31,
      "outputs": []
    },
    {
      "cell_type": "code",
      "source": [
        "loan0.info()"
      ],
      "metadata": {
        "colab": {
          "base_uri": "https://localhost:8080/"
        },
        "id": "CSdW8w9_WjXW",
        "outputId": "9ad2e07e-4d9e-4d21-e498-625c652ee45f"
      },
      "execution_count": 32,
      "outputs": [
        {
          "output_type": "stream",
          "name": "stdout",
          "text": [
            "<class 'pandas.core.frame.DataFrame'>\n",
            "Int64Index: 14206 entries, 0 to 15853\n",
            "Data columns (total 16 columns):\n",
            " #   Column                Non-Null Count  Dtype  \n",
            "---  ------                --------------  -----  \n",
            " 0   loan_amnt             14206 non-null  int64  \n",
            " 1   funded_amnt           14206 non-null  int64  \n",
            " 2   funded_amnt_inv       14206 non-null  float64\n",
            " 3   term                  14206 non-null  int64  \n",
            " 4   int_rate              14206 non-null  float64\n",
            " 5   installment           14206 non-null  float64\n",
            " 6   grade                 14206 non-null  object \n",
            " 7   sub_grade             14206 non-null  object \n",
            " 8   emp_length            14206 non-null  int64  \n",
            " 9   home_ownership        14206 non-null  object \n",
            " 10  annual_inc            14206 non-null  float64\n",
            " 11  verification_status   14206 non-null  object \n",
            " 12  loan_status           14206 non-null  object \n",
            " 13  purpose               14206 non-null  object \n",
            " 14  dti                   14206 non-null  float64\n",
            " 15  pub_rec_bankruptcies  14206 non-null  float64\n",
            "dtypes: float64(6), int64(4), object(6)\n",
            "memory usage: 1.8+ MB\n"
          ]
        }
      ]
    },
    {
      "cell_type": "markdown",
      "source": [
        "Term column is converted to int \n"
      ],
      "metadata": {
        "id": "AHrv8qMF8W8u"
      }
    },
    {
      "cell_type": "code",
      "source": [
        "loan0.term.value_counts()"
      ],
      "metadata": {
        "colab": {
          "base_uri": "https://localhost:8080/"
        },
        "id": "rd6dyZjIY9AC",
        "outputId": "134a006f-1fe2-4f26-aea8-f42c25be7132"
      },
      "execution_count": 33,
      "outputs": [
        {
          "output_type": "execute_result",
          "data": {
            "text/plain": [
              "36    10085\n",
              "60     4121\n",
              "Name: term, dtype: int64"
            ]
          },
          "metadata": {},
          "execution_count": 33
        }
      ]
    },
    {
      "cell_type": "code",
      "source": [
        "loan0.int_rate.describe()"
      ],
      "metadata": {
        "colab": {
          "base_uri": "https://localhost:8080/"
        },
        "id": "7EnjF1HYZw9k",
        "outputId": "84458bc3-c0b8-4843-cf0c-4088f6ba8912"
      },
      "execution_count": 34,
      "outputs": [
        {
          "output_type": "execute_result",
          "data": {
            "text/plain": [
              "count    14206.000000\n",
              "mean        12.257268\n",
              "std          4.202552\n",
              "min          5.420000\n",
              "25%          8.490000\n",
              "50%         11.990000\n",
              "75%         15.270000\n",
              "max         24.400000\n",
              "Name: int_rate, dtype: float64"
            ]
          },
          "metadata": {},
          "execution_count": 34
        }
      ]
    },
    {
      "cell_type": "code",
      "source": [
        "loan0.emp_length.describe()"
      ],
      "metadata": {
        "colab": {
          "base_uri": "https://localhost:8080/"
        },
        "id": "V8Eoc0jqZ4ek",
        "outputId": "add89ad9-1b85-45df-cf22-931e19d1d511"
      },
      "execution_count": 35,
      "outputs": [
        {
          "output_type": "execute_result",
          "data": {
            "text/plain": [
              "count    14206.000000\n",
              "mean         5.327467\n",
              "std          3.528918\n",
              "min          0.000000\n",
              "25%          2.000000\n",
              "50%          5.000000\n",
              "75%         10.000000\n",
              "max         10.000000\n",
              "Name: emp_length, dtype: float64"
            ]
          },
          "metadata": {},
          "execution_count": 35
        }
      ]
    },
    {
      "cell_type": "code",
      "source": [
        "# Checking if loan amount is higher than funded amount\n",
        "\n",
        "loan0[loan0.loan_amnt > loan0.funded_amnt]"
      ],
      "metadata": {
        "colab": {
          "base_uri": "https://localhost:8080/",
          "height": 488
        },
        "id": "uiD4wj9JaV0S",
        "outputId": "409db118-b286-4f70-dcb5-ad61bb9d8afc"
      },
      "execution_count": 36,
      "outputs": [
        {
          "output_type": "execute_result",
          "data": {
            "text/plain": [
              "       loan_amnt  funded_amnt  funded_amnt_inv  term  int_rate  installment  \\\n",
              "61         17500         8950           8925.0    60     17.27       223.74   \n",
              "66         12500         8925           8925.0    60     17.27       223.11   \n",
              "70         20975        13575          13550.0    60     17.58       341.63   \n",
              "77          7250         7200           7175.0    60     21.67       197.51   \n",
              "80         35000        22075          22050.0    60     17.27       551.84   \n",
              "...          ...          ...              ...   ...       ...          ...   \n",
              "15724      28800        20325          20325.0    60     19.69       534.99   \n",
              "15725      25000        16550          16525.0    60     19.29       431.97   \n",
              "15735      25000        18325          18325.0    60     18.79       473.25   \n",
              "15781      25000        21200          21125.0    60     11.99       471.48   \n",
              "15853      19600        12825          12825.0    60     18.79       331.21   \n",
              "\n",
              "      grade sub_grade  emp_length home_ownership  annual_inc  \\\n",
              "61        D        D3           6           RENT     40000.0   \n",
              "66        D        D3           5           RENT     30000.0   \n",
              "70        D        D4           5       MORTGAGE     44000.0   \n",
              "77        F        F3           0           RENT     75000.0   \n",
              "80        D        D3           3       MORTGAGE    150000.0   \n",
              "...     ...       ...         ...            ...         ...   \n",
              "15724     E        E5          10       MORTGAGE     92000.0   \n",
              "15725     E        E4          10           RENT    105000.0   \n",
              "15735     E        E3           3       MORTGAGE     85000.0   \n",
              "15781     B        B5           1            OWN    144240.0   \n",
              "15853     E        E3           4       MORTGAGE     85000.0   \n",
              "\n",
              "      verification_status  loan_status             purpose    dti  \\\n",
              "61               Verified   Fully Paid      small_business  19.47   \n",
              "66        Source Verified  Charged Off  debt_consolidation  13.16   \n",
              "70               Verified   Fully Paid         credit_card  18.79   \n",
              "77               Verified   Fully Paid  debt_consolidation  24.82   \n",
              "80               Verified   Fully Paid    home_improvement   7.51   \n",
              "...                   ...          ...                 ...    ...   \n",
              "15724     Source Verified  Charged Off  debt_consolidation  20.61   \n",
              "15725            Verified   Fully Paid    home_improvement   1.17   \n",
              "15735            Verified   Fully Paid      small_business  12.56   \n",
              "15781            Verified  Charged Off               other  15.77   \n",
              "15853     Source Verified   Fully Paid  debt_consolidation  21.47   \n",
              "\n",
              "       pub_rec_bankruptcies  \n",
              "61                      0.0  \n",
              "66                      1.0  \n",
              "70                      1.0  \n",
              "77                      1.0  \n",
              "80                      0.0  \n",
              "...                     ...  \n",
              "15724                   1.0  \n",
              "15725                   0.0  \n",
              "15735                   0.0  \n",
              "15781                   0.0  \n",
              "15853                   0.0  \n",
              "\n",
              "[487 rows x 16 columns]"
            ],
            "text/html": [
              "\n",
              "  <div id=\"df-511d1245-3d09-4255-91ad-48be461b6f76\">\n",
              "    <div class=\"colab-df-container\">\n",
              "      <div>\n",
              "<style scoped>\n",
              "    .dataframe tbody tr th:only-of-type {\n",
              "        vertical-align: middle;\n",
              "    }\n",
              "\n",
              "    .dataframe tbody tr th {\n",
              "        vertical-align: top;\n",
              "    }\n",
              "\n",
              "    .dataframe thead th {\n",
              "        text-align: right;\n",
              "    }\n",
              "</style>\n",
              "<table border=\"1\" class=\"dataframe\">\n",
              "  <thead>\n",
              "    <tr style=\"text-align: right;\">\n",
              "      <th></th>\n",
              "      <th>loan_amnt</th>\n",
              "      <th>funded_amnt</th>\n",
              "      <th>funded_amnt_inv</th>\n",
              "      <th>term</th>\n",
              "      <th>int_rate</th>\n",
              "      <th>installment</th>\n",
              "      <th>grade</th>\n",
              "      <th>sub_grade</th>\n",
              "      <th>emp_length</th>\n",
              "      <th>home_ownership</th>\n",
              "      <th>annual_inc</th>\n",
              "      <th>verification_status</th>\n",
              "      <th>loan_status</th>\n",
              "      <th>purpose</th>\n",
              "      <th>dti</th>\n",
              "      <th>pub_rec_bankruptcies</th>\n",
              "    </tr>\n",
              "  </thead>\n",
              "  <tbody>\n",
              "    <tr>\n",
              "      <th>61</th>\n",
              "      <td>17500</td>\n",
              "      <td>8950</td>\n",
              "      <td>8925.0</td>\n",
              "      <td>60</td>\n",
              "      <td>17.27</td>\n",
              "      <td>223.74</td>\n",
              "      <td>D</td>\n",
              "      <td>D3</td>\n",
              "      <td>6</td>\n",
              "      <td>RENT</td>\n",
              "      <td>40000.0</td>\n",
              "      <td>Verified</td>\n",
              "      <td>Fully Paid</td>\n",
              "      <td>small_business</td>\n",
              "      <td>19.47</td>\n",
              "      <td>0.0</td>\n",
              "    </tr>\n",
              "    <tr>\n",
              "      <th>66</th>\n",
              "      <td>12500</td>\n",
              "      <td>8925</td>\n",
              "      <td>8925.0</td>\n",
              "      <td>60</td>\n",
              "      <td>17.27</td>\n",
              "      <td>223.11</td>\n",
              "      <td>D</td>\n",
              "      <td>D3</td>\n",
              "      <td>5</td>\n",
              "      <td>RENT</td>\n",
              "      <td>30000.0</td>\n",
              "      <td>Source Verified</td>\n",
              "      <td>Charged Off</td>\n",
              "      <td>debt_consolidation</td>\n",
              "      <td>13.16</td>\n",
              "      <td>1.0</td>\n",
              "    </tr>\n",
              "    <tr>\n",
              "      <th>70</th>\n",
              "      <td>20975</td>\n",
              "      <td>13575</td>\n",
              "      <td>13550.0</td>\n",
              "      <td>60</td>\n",
              "      <td>17.58</td>\n",
              "      <td>341.63</td>\n",
              "      <td>D</td>\n",
              "      <td>D4</td>\n",
              "      <td>5</td>\n",
              "      <td>MORTGAGE</td>\n",
              "      <td>44000.0</td>\n",
              "      <td>Verified</td>\n",
              "      <td>Fully Paid</td>\n",
              "      <td>credit_card</td>\n",
              "      <td>18.79</td>\n",
              "      <td>1.0</td>\n",
              "    </tr>\n",
              "    <tr>\n",
              "      <th>77</th>\n",
              "      <td>7250</td>\n",
              "      <td>7200</td>\n",
              "      <td>7175.0</td>\n",
              "      <td>60</td>\n",
              "      <td>21.67</td>\n",
              "      <td>197.51</td>\n",
              "      <td>F</td>\n",
              "      <td>F3</td>\n",
              "      <td>0</td>\n",
              "      <td>RENT</td>\n",
              "      <td>75000.0</td>\n",
              "      <td>Verified</td>\n",
              "      <td>Fully Paid</td>\n",
              "      <td>debt_consolidation</td>\n",
              "      <td>24.82</td>\n",
              "      <td>1.0</td>\n",
              "    </tr>\n",
              "    <tr>\n",
              "      <th>80</th>\n",
              "      <td>35000</td>\n",
              "      <td>22075</td>\n",
              "      <td>22050.0</td>\n",
              "      <td>60</td>\n",
              "      <td>17.27</td>\n",
              "      <td>551.84</td>\n",
              "      <td>D</td>\n",
              "      <td>D3</td>\n",
              "      <td>3</td>\n",
              "      <td>MORTGAGE</td>\n",
              "      <td>150000.0</td>\n",
              "      <td>Verified</td>\n",
              "      <td>Fully Paid</td>\n",
              "      <td>home_improvement</td>\n",
              "      <td>7.51</td>\n",
              "      <td>0.0</td>\n",
              "    </tr>\n",
              "    <tr>\n",
              "      <th>...</th>\n",
              "      <td>...</td>\n",
              "      <td>...</td>\n",
              "      <td>...</td>\n",
              "      <td>...</td>\n",
              "      <td>...</td>\n",
              "      <td>...</td>\n",
              "      <td>...</td>\n",
              "      <td>...</td>\n",
              "      <td>...</td>\n",
              "      <td>...</td>\n",
              "      <td>...</td>\n",
              "      <td>...</td>\n",
              "      <td>...</td>\n",
              "      <td>...</td>\n",
              "      <td>...</td>\n",
              "      <td>...</td>\n",
              "    </tr>\n",
              "    <tr>\n",
              "      <th>15724</th>\n",
              "      <td>28800</td>\n",
              "      <td>20325</td>\n",
              "      <td>20325.0</td>\n",
              "      <td>60</td>\n",
              "      <td>19.69</td>\n",
              "      <td>534.99</td>\n",
              "      <td>E</td>\n",
              "      <td>E5</td>\n",
              "      <td>10</td>\n",
              "      <td>MORTGAGE</td>\n",
              "      <td>92000.0</td>\n",
              "      <td>Source Verified</td>\n",
              "      <td>Charged Off</td>\n",
              "      <td>debt_consolidation</td>\n",
              "      <td>20.61</td>\n",
              "      <td>1.0</td>\n",
              "    </tr>\n",
              "    <tr>\n",
              "      <th>15725</th>\n",
              "      <td>25000</td>\n",
              "      <td>16550</td>\n",
              "      <td>16525.0</td>\n",
              "      <td>60</td>\n",
              "      <td>19.29</td>\n",
              "      <td>431.97</td>\n",
              "      <td>E</td>\n",
              "      <td>E4</td>\n",
              "      <td>10</td>\n",
              "      <td>RENT</td>\n",
              "      <td>105000.0</td>\n",
              "      <td>Verified</td>\n",
              "      <td>Fully Paid</td>\n",
              "      <td>home_improvement</td>\n",
              "      <td>1.17</td>\n",
              "      <td>0.0</td>\n",
              "    </tr>\n",
              "    <tr>\n",
              "      <th>15735</th>\n",
              "      <td>25000</td>\n",
              "      <td>18325</td>\n",
              "      <td>18325.0</td>\n",
              "      <td>60</td>\n",
              "      <td>18.79</td>\n",
              "      <td>473.25</td>\n",
              "      <td>E</td>\n",
              "      <td>E3</td>\n",
              "      <td>3</td>\n",
              "      <td>MORTGAGE</td>\n",
              "      <td>85000.0</td>\n",
              "      <td>Verified</td>\n",
              "      <td>Fully Paid</td>\n",
              "      <td>small_business</td>\n",
              "      <td>12.56</td>\n",
              "      <td>0.0</td>\n",
              "    </tr>\n",
              "    <tr>\n",
              "      <th>15781</th>\n",
              "      <td>25000</td>\n",
              "      <td>21200</td>\n",
              "      <td>21125.0</td>\n",
              "      <td>60</td>\n",
              "      <td>11.99</td>\n",
              "      <td>471.48</td>\n",
              "      <td>B</td>\n",
              "      <td>B5</td>\n",
              "      <td>1</td>\n",
              "      <td>OWN</td>\n",
              "      <td>144240.0</td>\n",
              "      <td>Verified</td>\n",
              "      <td>Charged Off</td>\n",
              "      <td>other</td>\n",
              "      <td>15.77</td>\n",
              "      <td>0.0</td>\n",
              "    </tr>\n",
              "    <tr>\n",
              "      <th>15853</th>\n",
              "      <td>19600</td>\n",
              "      <td>12825</td>\n",
              "      <td>12825.0</td>\n",
              "      <td>60</td>\n",
              "      <td>18.79</td>\n",
              "      <td>331.21</td>\n",
              "      <td>E</td>\n",
              "      <td>E3</td>\n",
              "      <td>4</td>\n",
              "      <td>MORTGAGE</td>\n",
              "      <td>85000.0</td>\n",
              "      <td>Source Verified</td>\n",
              "      <td>Fully Paid</td>\n",
              "      <td>debt_consolidation</td>\n",
              "      <td>21.47</td>\n",
              "      <td>0.0</td>\n",
              "    </tr>\n",
              "  </tbody>\n",
              "</table>\n",
              "<p>487 rows × 16 columns</p>\n",
              "</div>\n",
              "      <button class=\"colab-df-convert\" onclick=\"convertToInteractive('df-511d1245-3d09-4255-91ad-48be461b6f76')\"\n",
              "              title=\"Convert this dataframe to an interactive table.\"\n",
              "              style=\"display:none;\">\n",
              "        \n",
              "  <svg xmlns=\"http://www.w3.org/2000/svg\" height=\"24px\"viewBox=\"0 0 24 24\"\n",
              "       width=\"24px\">\n",
              "    <path d=\"M0 0h24v24H0V0z\" fill=\"none\"/>\n",
              "    <path d=\"M18.56 5.44l.94 2.06.94-2.06 2.06-.94-2.06-.94-.94-2.06-.94 2.06-2.06.94zm-11 1L8.5 8.5l.94-2.06 2.06-.94-2.06-.94L8.5 2.5l-.94 2.06-2.06.94zm10 10l.94 2.06.94-2.06 2.06-.94-2.06-.94-.94-2.06-.94 2.06-2.06.94z\"/><path d=\"M17.41 7.96l-1.37-1.37c-.4-.4-.92-.59-1.43-.59-.52 0-1.04.2-1.43.59L10.3 9.45l-7.72 7.72c-.78.78-.78 2.05 0 2.83L4 21.41c.39.39.9.59 1.41.59.51 0 1.02-.2 1.41-.59l7.78-7.78 2.81-2.81c.8-.78.8-2.07 0-2.86zM5.41 20L4 18.59l7.72-7.72 1.47 1.35L5.41 20z\"/>\n",
              "  </svg>\n",
              "      </button>\n",
              "      \n",
              "  <style>\n",
              "    .colab-df-container {\n",
              "      display:flex;\n",
              "      flex-wrap:wrap;\n",
              "      gap: 12px;\n",
              "    }\n",
              "\n",
              "    .colab-df-convert {\n",
              "      background-color: #E8F0FE;\n",
              "      border: none;\n",
              "      border-radius: 50%;\n",
              "      cursor: pointer;\n",
              "      display: none;\n",
              "      fill: #1967D2;\n",
              "      height: 32px;\n",
              "      padding: 0 0 0 0;\n",
              "      width: 32px;\n",
              "    }\n",
              "\n",
              "    .colab-df-convert:hover {\n",
              "      background-color: #E2EBFA;\n",
              "      box-shadow: 0px 1px 2px rgba(60, 64, 67, 0.3), 0px 1px 3px 1px rgba(60, 64, 67, 0.15);\n",
              "      fill: #174EA6;\n",
              "    }\n",
              "\n",
              "    [theme=dark] .colab-df-convert {\n",
              "      background-color: #3B4455;\n",
              "      fill: #D2E3FC;\n",
              "    }\n",
              "\n",
              "    [theme=dark] .colab-df-convert:hover {\n",
              "      background-color: #434B5C;\n",
              "      box-shadow: 0px 1px 3px 1px rgba(0, 0, 0, 0.15);\n",
              "      filter: drop-shadow(0px 1px 2px rgba(0, 0, 0, 0.3));\n",
              "      fill: #FFFFFF;\n",
              "    }\n",
              "  </style>\n",
              "\n",
              "      <script>\n",
              "        const buttonEl =\n",
              "          document.querySelector('#df-511d1245-3d09-4255-91ad-48be461b6f76 button.colab-df-convert');\n",
              "        buttonEl.style.display =\n",
              "          google.colab.kernel.accessAllowed ? 'block' : 'none';\n",
              "\n",
              "        async function convertToInteractive(key) {\n",
              "          const element = document.querySelector('#df-511d1245-3d09-4255-91ad-48be461b6f76');\n",
              "          const dataTable =\n",
              "            await google.colab.kernel.invokeFunction('convertToInteractive',\n",
              "                                                     [key], {});\n",
              "          if (!dataTable) return;\n",
              "\n",
              "          const docLinkHtml = 'Like what you see? Visit the ' +\n",
              "            '<a target=\"_blank\" href=https://colab.research.google.com/notebooks/data_table.ipynb>data table notebook</a>'\n",
              "            + ' to learn more about interactive tables.';\n",
              "          element.innerHTML = '';\n",
              "          dataTable['output_type'] = 'display_data';\n",
              "          await google.colab.output.renderOutput(dataTable, element);\n",
              "          const docLink = document.createElement('div');\n",
              "          docLink.innerHTML = docLinkHtml;\n",
              "          element.appendChild(docLink);\n",
              "        }\n",
              "      </script>\n",
              "    </div>\n",
              "  </div>\n",
              "  "
            ]
          },
          "metadata": {},
          "execution_count": 36
        }
      ]
    },
    {
      "cell_type": "code",
      "source": [
        "# Checking if wrong data in funded investment amount , is it higher than funded amount. no data found\n",
        "loan0[loan0.funded_amnt_inv > loan0.funded_amnt]"
      ],
      "metadata": {
        "colab": {
          "base_uri": "https://localhost:8080/",
          "height": 113
        },
        "id": "LcMe15-kbZxa",
        "outputId": "8a8cf872-e5a2-4f95-9349-83e996901476"
      },
      "execution_count": 37,
      "outputs": [
        {
          "output_type": "execute_result",
          "data": {
            "text/plain": [
              "Empty DataFrame\n",
              "Columns: [loan_amnt, funded_amnt, funded_amnt_inv, term, int_rate, installment, grade, sub_grade, emp_length, home_ownership, annual_inc, verification_status, loan_status, purpose, dti, pub_rec_bankruptcies]\n",
              "Index: []"
            ],
            "text/html": [
              "\n",
              "  <div id=\"df-2d8dc7e6-c2ed-47c5-a293-cd6d14949dfd\">\n",
              "    <div class=\"colab-df-container\">\n",
              "      <div>\n",
              "<style scoped>\n",
              "    .dataframe tbody tr th:only-of-type {\n",
              "        vertical-align: middle;\n",
              "    }\n",
              "\n",
              "    .dataframe tbody tr th {\n",
              "        vertical-align: top;\n",
              "    }\n",
              "\n",
              "    .dataframe thead th {\n",
              "        text-align: right;\n",
              "    }\n",
              "</style>\n",
              "<table border=\"1\" class=\"dataframe\">\n",
              "  <thead>\n",
              "    <tr style=\"text-align: right;\">\n",
              "      <th></th>\n",
              "      <th>loan_amnt</th>\n",
              "      <th>funded_amnt</th>\n",
              "      <th>funded_amnt_inv</th>\n",
              "      <th>term</th>\n",
              "      <th>int_rate</th>\n",
              "      <th>installment</th>\n",
              "      <th>grade</th>\n",
              "      <th>sub_grade</th>\n",
              "      <th>emp_length</th>\n",
              "      <th>home_ownership</th>\n",
              "      <th>annual_inc</th>\n",
              "      <th>verification_status</th>\n",
              "      <th>loan_status</th>\n",
              "      <th>purpose</th>\n",
              "      <th>dti</th>\n",
              "      <th>pub_rec_bankruptcies</th>\n",
              "    </tr>\n",
              "  </thead>\n",
              "  <tbody>\n",
              "  </tbody>\n",
              "</table>\n",
              "</div>\n",
              "      <button class=\"colab-df-convert\" onclick=\"convertToInteractive('df-2d8dc7e6-c2ed-47c5-a293-cd6d14949dfd')\"\n",
              "              title=\"Convert this dataframe to an interactive table.\"\n",
              "              style=\"display:none;\">\n",
              "        \n",
              "  <svg xmlns=\"http://www.w3.org/2000/svg\" height=\"24px\"viewBox=\"0 0 24 24\"\n",
              "       width=\"24px\">\n",
              "    <path d=\"M0 0h24v24H0V0z\" fill=\"none\"/>\n",
              "    <path d=\"M18.56 5.44l.94 2.06.94-2.06 2.06-.94-2.06-.94-.94-2.06-.94 2.06-2.06.94zm-11 1L8.5 8.5l.94-2.06 2.06-.94-2.06-.94L8.5 2.5l-.94 2.06-2.06.94zm10 10l.94 2.06.94-2.06 2.06-.94-2.06-.94-.94-2.06-.94 2.06-2.06.94z\"/><path d=\"M17.41 7.96l-1.37-1.37c-.4-.4-.92-.59-1.43-.59-.52 0-1.04.2-1.43.59L10.3 9.45l-7.72 7.72c-.78.78-.78 2.05 0 2.83L4 21.41c.39.39.9.59 1.41.59.51 0 1.02-.2 1.41-.59l7.78-7.78 2.81-2.81c.8-.78.8-2.07 0-2.86zM5.41 20L4 18.59l7.72-7.72 1.47 1.35L5.41 20z\"/>\n",
              "  </svg>\n",
              "      </button>\n",
              "      \n",
              "  <style>\n",
              "    .colab-df-container {\n",
              "      display:flex;\n",
              "      flex-wrap:wrap;\n",
              "      gap: 12px;\n",
              "    }\n",
              "\n",
              "    .colab-df-convert {\n",
              "      background-color: #E8F0FE;\n",
              "      border: none;\n",
              "      border-radius: 50%;\n",
              "      cursor: pointer;\n",
              "      display: none;\n",
              "      fill: #1967D2;\n",
              "      height: 32px;\n",
              "      padding: 0 0 0 0;\n",
              "      width: 32px;\n",
              "    }\n",
              "\n",
              "    .colab-df-convert:hover {\n",
              "      background-color: #E2EBFA;\n",
              "      box-shadow: 0px 1px 2px rgba(60, 64, 67, 0.3), 0px 1px 3px 1px rgba(60, 64, 67, 0.15);\n",
              "      fill: #174EA6;\n",
              "    }\n",
              "\n",
              "    [theme=dark] .colab-df-convert {\n",
              "      background-color: #3B4455;\n",
              "      fill: #D2E3FC;\n",
              "    }\n",
              "\n",
              "    [theme=dark] .colab-df-convert:hover {\n",
              "      background-color: #434B5C;\n",
              "      box-shadow: 0px 1px 3px 1px rgba(0, 0, 0, 0.15);\n",
              "      filter: drop-shadow(0px 1px 2px rgba(0, 0, 0, 0.3));\n",
              "      fill: #FFFFFF;\n",
              "    }\n",
              "  </style>\n",
              "\n",
              "      <script>\n",
              "        const buttonEl =\n",
              "          document.querySelector('#df-2d8dc7e6-c2ed-47c5-a293-cd6d14949dfd button.colab-df-convert');\n",
              "        buttonEl.style.display =\n",
              "          google.colab.kernel.accessAllowed ? 'block' : 'none';\n",
              "\n",
              "        async function convertToInteractive(key) {\n",
              "          const element = document.querySelector('#df-2d8dc7e6-c2ed-47c5-a293-cd6d14949dfd');\n",
              "          const dataTable =\n",
              "            await google.colab.kernel.invokeFunction('convertToInteractive',\n",
              "                                                     [key], {});\n",
              "          if (!dataTable) return;\n",
              "\n",
              "          const docLinkHtml = 'Like what you see? Visit the ' +\n",
              "            '<a target=\"_blank\" href=https://colab.research.google.com/notebooks/data_table.ipynb>data table notebook</a>'\n",
              "            + ' to learn more about interactive tables.';\n",
              "          element.innerHTML = '';\n",
              "          dataTable['output_type'] = 'display_data';\n",
              "          await google.colab.output.renderOutput(dataTable, element);\n",
              "          const docLink = document.createElement('div');\n",
              "          docLink.innerHTML = docLinkHtml;\n",
              "          element.appendChild(docLink);\n",
              "        }\n",
              "      </script>\n",
              "    </div>\n",
              "  </div>\n",
              "  "
            ]
          },
          "metadata": {},
          "execution_count": 37
        }
      ]
    },
    {
      "cell_type": "markdown",
      "source": [
        "**Data Analysis**"
      ],
      "metadata": {
        "id": "nEIeBHLv8ziu"
      }
    },
    {
      "cell_type": "code",
      "source": [
        "plt.boxplot(loan0['annual_inc'])\n",
        "plt.show()\n"
      ],
      "metadata": {
        "colab": {
          "base_uri": "https://localhost:8080/",
          "height": 276
        },
        "id": "nJqwIx46jA1x",
        "outputId": "d08cd5f2-bd83-4f9b-fdf4-e41420953967"
      },
      "execution_count": 38,
      "outputs": [
        {
          "output_type": "display_data",
          "data": {
            "text/plain": [
              "<Figure size 432x288 with 1 Axes>"
            ],
            "image/png": "[encoded data removed]"
          },
          "metadata": {
            "needs_background": "light"
          }
        }
      ]
    },
    {
      "cell_type": "markdown",
      "source": [
        "We can see that there are outliers\n"
      ],
      "metadata": {
        "id": "0BUPBkpp73Bq"
      }
    },
    {
      "cell_type": "code",
      "source": [
        "loan02 = loan0[loan0.annual_inc < 200000]"
      ],
      "metadata": {
        "id": "HKubdvJdpCyv"
      },
      "execution_count": 39,
      "outputs": []
    },
    {
      "cell_type": "markdown",
      "source": [
        "We will consider dataset with employee annual income below 200000"
      ],
      "metadata": {
        "id": "VZBs494c8nGt"
      }
    },
    {
      "cell_type": "code",
      "source": [
        "plt.boxplot(loan02['annual_inc'])\n",
        "plt.show()"
      ],
      "metadata": {
        "colab": {
          "base_uri": "https://localhost:8080/",
          "height": 265
        },
        "id": "x4zBDkuNpIoV",
        "outputId": "9671e1a3-f7bd-41fe-aee3-a35ddd5a0ebe"
      },
      "execution_count": 40,
      "outputs": [
        {
          "output_type": "display_data",
          "data": {
            "text/plain": [
              "<Figure size 432x288 with 1 Axes>"
            ],
            "image/png": "[encoded data removed]"
          },
          "metadata": {
            "needs_background": "light"
          }
        }
      ]
    },
    {
      "cell_type": "code",
      "source": [
        "import warnings\n",
        "warnings.filterwarnings(\"ignore\")"
      ],
      "metadata": {
        "id": "OoWtLtDmpOXH"
      },
      "execution_count": 41,
      "outputs": []
    },
    {
      "cell_type": "code",
      "source": [
        "(loan02['purpose'].value_counts()/len(loan02)).plot.bar()"
      ],
      "metadata": {
        "colab": {
          "base_uri": "https://localhost:8080/",
          "height": 373
        },
        "id": "dSRi_OVWyCHS",
        "outputId": "52fd5304-5d14-44cb-8f29-68db59bcc0aa"
      },
      "execution_count": 42,
      "outputs": [
        {
          "output_type": "execute_result",
          "data": {
            "text/plain": [
              "<matplotlib.axes._subplots.AxesSubplot at 0x7effd454d7d0>"
            ]
          },
          "metadata": {},
          "execution_count": 42
        },
        {
          "output_type": "display_data",
          "data": {
            "text/plain": [
              "<Figure size 432x288 with 1 Axes>"
            ],
            "image/png": "[encoded data removed]"
          },
          "metadata": {
            "needs_background": "light"
          }
        }
      ]
    },
    {
      "cell_type": "markdown",
      "source": [
        "**This Graph Shows loan purpose from customer, maximum request are for Debt Consolidation**"
      ],
      "metadata": {
        "id": "-mWAJ3x34LQ5"
      }
    },
    {
      "cell_type": "code",
      "source": [
        "plt.figure(figsize=(12, 8))\n",
        "sns.heatmap(loan02.corr(),annot=True)\n",
        "plt.show()"
      ],
      "metadata": {
        "colab": {
          "base_uri": "https://localhost:8080/",
          "height": 586
        },
        "id": "m7uXc-_B7vga",
        "outputId": "46c59a71-e3ca-4b12-cff7-f11c0d3f514a"
      },
      "execution_count": 43,
      "outputs": [
        {
          "output_type": "display_data",
          "data": {
            "text/plain": [
              "<Figure size 864x576 with 2 Axes>"
            ],
            "image/png": "[encoded data removed]"
          },
          "metadata": {
            "needs_background": "light"
          }
        }
      ]
    },
    {
      "cell_type": "markdown",
      "source": [
        "**From above heat map we can see relation between loan amount and installment**"
      ],
      "metadata": {
        "id": "YQdO7Nzw9tJu"
      }
    },
    {
      "cell_type": "code",
      "source": [
        "loan02['loan_status_bin'] = loan02['loan_status'].map({'Charged Off': 1, 'Fully Paid': 0})"
      ],
      "metadata": {
        "id": "QLypSotMNbtH"
      },
      "execution_count": 44,
      "outputs": []
    },
    {
      "cell_type": "markdown",
      "source": [
        "Adding loan status bin column where charged off = 1 and Fully Paid = 0"
      ],
      "metadata": {
        "id": "cNJJ11StD0eP"
      }
    },
    {
      "cell_type": "code",
      "source": [
        "fig, ax = plt.subplots(1, 3, figsize=(16,6))\n",
        "loan_amt = loan02[\"loan_amnt\"].values\n",
        "funded_amt = loan02[\"funded_amnt\"].values\n",
        "investor_amt = loan02[\"funded_amnt_inv\"].values\n",
        "sns.distplot(loan_amt, ax=ax[0])\n",
        "ax[0].set_title(\"Loan Applied\",)\n",
        "sns.distplot(funded_amt, ax=ax[1])\n",
        "ax[1].set_title(\"Amount Funded\")\n",
        "sns.distplot(investor_amt, ax=ax[2])\n",
        "ax[2].set_title(\"Total committed\")"
      ],
      "metadata": {
        "colab": {
          "base_uri": "https://localhost:8080/",
          "height": 408
        },
        "id": "51DxjybtO6xh",
        "outputId": "738a4da2-56f5-4728-ec13-78ea0fe88640"
      },
      "execution_count": 45,
      "outputs": [
        {
          "output_type": "execute_result",
          "data": {
            "text/plain": [
              "Text(0.5, 1.0, 'Total committed')"
            ]
          },
          "metadata": {},
          "execution_count": 45
        },
        {
          "output_type": "display_data",
          "data": {
            "text/plain": [
              "<Figure size 1152x432 with 3 Axes>"
            ],
            "image/png": "[encoded data removed]"
          },
          "metadata": {
            "needs_background": "light"
          }
        }
      ]
    },
    {
      "cell_type": "code",
      "source": [
        "#the distribution of loan term is higher in 36 months\n",
        "\n",
        "(loan02['term'].value_counts()/len(loan02)).plot.bar(title='value counts')"
      ],
      "metadata": {
        "colab": {
          "base_uri": "https://localhost:8080/",
          "height": 302
        },
        "id": "Niz5_z73UdD8",
        "outputId": "7c14145a-cc7d-4860-af0a-3a85c1106dc2"
      },
      "execution_count": 46,
      "outputs": [
        {
          "output_type": "execute_result",
          "data": {
            "text/plain": [
              "<matplotlib.axes._subplots.AxesSubplot at 0x7effcfb88ed0>"
            ]
          },
          "metadata": {},
          "execution_count": 46
        },
        {
          "output_type": "display_data",
          "data": {
            "text/plain": [
              "<Figure size 432x288 with 1 Axes>"
            ],
            "image/png": "[encoded data removed]"
          },
          "metadata": {
            "needs_background": "light"
          }
        }
      ]
    },
    {
      "cell_type": "code",
      "source": [
        "loan02.groupby('loan_status')['int_rate'].describe()"
      ],
      "metadata": {
        "colab": {
          "base_uri": "https://localhost:8080/",
          "height": 143
        },
        "id": "QqMuETC4ikCp",
        "outputId": "4e4e255d-e3f1-4fd4-f3dd-3e1e81076daa"
      },
      "execution_count": 47,
      "outputs": [
        {
          "output_type": "execute_result",
          "data": {
            "text/plain": [
              "               count       mean       std   min    25%    50%    75%    max\n",
              "loan_status                                                                \n",
              "Charged Off   2314.0  14.651292  4.083807  5.42  11.71  14.65  17.58  24.40\n",
              "Fully Paid   11618.0  11.740422  4.035540  5.42   7.90  11.49  14.27  24.11"
            ],
            "text/html": [
              "\n",
              "  <div id=\"df-05c15da5-0c00-4156-b0b3-68ae89e8552a\">\n",
              "    <div class=\"colab-df-container\">\n",
              "      <div>\n",
              "<style scoped>\n",
              "    .dataframe tbody tr th:only-of-type {\n",
              "        vertical-align: middle;\n",
              "    }\n",
              "\n",
              "    .dataframe tbody tr th {\n",
              "        vertical-align: top;\n",
              "    }\n",
              "\n",
              "    .dataframe thead th {\n",
              "        text-align: right;\n",
              "    }\n",
              "</style>\n",
              "<table border=\"1\" class=\"dataframe\">\n",
              "  <thead>\n",
              "    <tr style=\"text-align: right;\">\n",
              "      <th></th>\n",
              "      <th>count</th>\n",
              "      <th>mean</th>\n",
              "      <th>std</th>\n",
              "      <th>min</th>\n",
              "      <th>25%</th>\n",
              "      <th>50%</th>\n",
              "      <th>75%</th>\n",
              "      <th>max</th>\n",
              "    </tr>\n",
              "    <tr>\n",
              "      <th>loan_status</th>\n",
              "      <th></th>\n",
              "      <th></th>\n",
              "      <th></th>\n",
              "      <th></th>\n",
              "      <th></th>\n",
              "      <th></th>\n",
              "      <th></th>\n",
              "      <th></th>\n",
              "    </tr>\n",
              "  </thead>\n",
              "  <tbody>\n",
              "    <tr>\n",
              "      <th>Charged Off</th>\n",
              "      <td>2314.0</td>\n",
              "      <td>14.651292</td>\n",
              "      <td>4.083807</td>\n",
              "      <td>5.42</td>\n",
              "      <td>11.71</td>\n",
              "      <td>14.65</td>\n",
              "      <td>17.58</td>\n",
              "      <td>24.40</td>\n",
              "    </tr>\n",
              "    <tr>\n",
              "      <th>Fully Paid</th>\n",
              "      <td>11618.0</td>\n",
              "      <td>11.740422</td>\n",
              "      <td>4.035540</td>\n",
              "      <td>5.42</td>\n",
              "      <td>7.90</td>\n",
              "      <td>11.49</td>\n",
              "      <td>14.27</td>\n",
              "      <td>24.11</td>\n",
              "    </tr>\n",
              "  </tbody>\n",
              "</table>\n",
              "</div>\n",
              "      <button class=\"colab-df-convert\" onclick=\"convertToInteractive('df-05c15da5-0c00-4156-b0b3-68ae89e8552a')\"\n",
              "              title=\"Convert this dataframe to an interactive table.\"\n",
              "              style=\"display:none;\">\n",
              "        \n",
              "  <svg xmlns=\"http://www.w3.org/2000/svg\" height=\"24px\"viewBox=\"0 0 24 24\"\n",
              "       width=\"24px\">\n",
              "    <path d=\"M0 0h24v24H0V0z\" fill=\"none\"/>\n",
              "    <path d=\"M18.56 5.44l.94 2.06.94-2.06 2.06-.94-2.06-.94-.94-2.06-.94 2.06-2.06.94zm-11 1L8.5 8.5l.94-2.06 2.06-.94-2.06-.94L8.5 2.5l-.94 2.06-2.06.94zm10 10l.94 2.06.94-2.06 2.06-.94-2.06-.94-.94-2.06-.94 2.06-2.06.94z\"/><path d=\"M17.41 7.96l-1.37-1.37c-.4-.4-.92-.59-1.43-.59-.52 0-1.04.2-1.43.59L10.3 9.45l-7.72 7.72c-.78.78-.78 2.05 0 2.83L4 21.41c.39.39.9.59 1.41.59.51 0 1.02-.2 1.41-.59l7.78-7.78 2.81-2.81c.8-.78.8-2.07 0-2.86zM5.41 20L4 18.59l7.72-7.72 1.47 1.35L5.41 20z\"/>\n",
              "  </svg>\n",
              "      </button>\n",
              "      \n",
              "  <style>\n",
              "    .colab-df-container {\n",
              "      display:flex;\n",
              "      flex-wrap:wrap;\n",
              "      gap: 12px;\n",
              "    }\n",
              "\n",
              "    .colab-df-convert {\n",
              "      background-color: #E8F0FE;\n",
              "      border: none;\n",
              "      border-radius: 50%;\n",
              "      cursor: pointer;\n",
              "      display: none;\n",
              "      fill: #1967D2;\n",
              "      height: 32px;\n",
              "      padding: 0 0 0 0;\n",
              "      width: 32px;\n",
              "    }\n",
              "\n",
              "    .colab-df-convert:hover {\n",
              "      background-color: #E2EBFA;\n",
              "      box-shadow: 0px 1px 2px rgba(60, 64, 67, 0.3), 0px 1px 3px 1px rgba(60, 64, 67, 0.15);\n",
              "      fill: #174EA6;\n",
              "    }\n",
              "\n",
              "    [theme=dark] .colab-df-convert {\n",
              "      background-color: #3B4455;\n",
              "      fill: #D2E3FC;\n",
              "    }\n",
              "\n",
              "    [theme=dark] .colab-df-convert:hover {\n",
              "      background-color: #434B5C;\n",
              "      box-shadow: 0px 1px 3px 1px rgba(0, 0, 0, 0.15);\n",
              "      filter: drop-shadow(0px 1px 2px rgba(0, 0, 0, 0.3));\n",
              "      fill: #FFFFFF;\n",
              "    }\n",
              "  </style>\n",
              "\n",
              "      <script>\n",
              "        const buttonEl =\n",
              "          document.querySelector('#df-05c15da5-0c00-4156-b0b3-68ae89e8552a button.colab-df-convert');\n",
              "        buttonEl.style.display =\n",
              "          google.colab.kernel.accessAllowed ? 'block' : 'none';\n",
              "\n",
              "        async function convertToInteractive(key) {\n",
              "          const element = document.querySelector('#df-05c15da5-0c00-4156-b0b3-68ae89e8552a');\n",
              "          const dataTable =\n",
              "            await google.colab.kernel.invokeFunction('convertToInteractive',\n",
              "                                                     [key], {});\n",
              "          if (!dataTable) return;\n",
              "\n",
              "          const docLinkHtml = 'Like what you see? Visit the ' +\n",
              "            '<a target=\"_blank\" href=https://colab.research.google.com/notebooks/data_table.ipynb>data table notebook</a>'\n",
              "            + ' to learn more about interactive tables.';\n",
              "          element.innerHTML = '';\n",
              "          dataTable['output_type'] = 'display_data';\n",
              "          await google.colab.output.renderOutput(dataTable, element);\n",
              "          const docLink = document.createElement('div');\n",
              "          docLink.innerHTML = docLinkHtml;\n",
              "          element.appendChild(docLink);\n",
              "        }\n",
              "      </script>\n",
              "    </div>\n",
              "  </div>\n",
              "  "
            ]
          },
          "metadata": {},
          "execution_count": 47
        }
      ]
    },
    {
      "cell_type": "code",
      "source": [
        "sns.boxplot(data=loan02, x='int_rate',  y='loan_status');\n"
      ],
      "metadata": {
        "colab": {
          "base_uri": "https://localhost:8080/",
          "height": 280
        },
        "id": "Gbz5LXk8iq4P",
        "outputId": "31aa651f-3fb1-440b-dee4-ea32420a58bb"
      },
      "execution_count": 48,
      "outputs": [
        {
          "output_type": "display_data",
          "data": {
            "text/plain": [
              "<Figure size 432x288 with 1 Axes>"
            ],
            "image/png": "[encoded data removed]"
          },
          "metadata": {
            "needs_background": "light"
          }
        }
      ]
    },
    {
      "cell_type": "markdown",
      "source": [
        "**In Above Graph we can see relation between Charged off loan is more on high Interest Rate**"
      ],
      "metadata": {
        "id": "fPozdZMp-wlw"
      }
    },
    {
      "cell_type": "code",
      "source": [
        "sns.boxplot(data=loan02, x='funded_amnt', y='loan_status');\n"
      ],
      "metadata": {
        "colab": {
          "base_uri": "https://localhost:8080/",
          "height": 280
        },
        "id": "vXd9l5shjAB6",
        "outputId": "83797c3f-152b-41bb-d1a3-23accd21e995"
      },
      "execution_count": 49,
      "outputs": [
        {
          "output_type": "display_data",
          "data": {
            "text/plain": [
              "<Figure size 432x288 with 1 Axes>"
            ],
            "image/png": "[encoded data removed]"
          },
          "metadata": {
            "needs_background": "light"
          }
        }
      ]
    },
    {
      "cell_type": "markdown",
      "source": [
        "**In above graph we can see that Charged off loan in on higher funded amount**"
      ],
      "metadata": {
        "id": "G3bui5Bg_CZb"
      }
    },
    {
      "cell_type": "code",
      "source": [
        "sns.boxplot(data=loan02, x='loan_amnt', y='loan_status' );\n"
      ],
      "metadata": {
        "colab": {
          "base_uri": "https://localhost:8080/",
          "height": 280
        },
        "id": "WByj63yYjU-C",
        "outputId": "c5128739-55b1-4041-9f6f-6ba004600a29"
      },
      "execution_count": 50,
      "outputs": [
        {
          "output_type": "display_data",
          "data": {
            "text/plain": [
              "<Figure size 432x288 with 1 Axes>"
            ],
            "image/png": "[encoded data removed]"
          },
          "metadata": {
            "needs_background": "light"
          }
        }
      ]
    },
    {
      "cell_type": "markdown",
      "source": [
        "**In above graph we can see that Charged off loan in on higher loan amount**"
      ],
      "metadata": {
        "id": "E9zhp4HW_P1o"
      }
    },
    {
      "cell_type": "code",
      "source": [
        "sns.histplot(data=loan02, x='emp_length', y='loan_status' );\n"
      ],
      "metadata": {
        "colab": {
          "base_uri": "https://localhost:8080/",
          "height": 280
        },
        "id": "gE7bdnF3nEGy",
        "outputId": "db61cfbe-b886-4021-d491-bb894284a3ff"
      },
      "execution_count": 51,
      "outputs": [
        {
          "output_type": "display_data",
          "data": {
            "text/plain": [
              "<Figure size 432x288 with 1 Axes>"
            ],
            "image/png": "[encoded data removed]"
          },
          "metadata": {
            "needs_background": "light"
          }
        }
      ]
    },
    {
      "cell_type": "code",
      "source": [
        "loan02.groupby('emp_length')['loan_status_bin'].mean().plot.bar()"
      ],
      "metadata": {
        "colab": {
          "base_uri": "https://localhost:8080/",
          "height": 301
        },
        "id": "W99Kv-MbpCos",
        "outputId": "70276573-f666-4188-e4dc-ca1e59675fdf"
      },
      "execution_count": 52,
      "outputs": [
        {
          "output_type": "execute_result",
          "data": {
            "text/plain": [
              "<matplotlib.axes._subplots.AxesSubplot at 0x7effcfb0f310>"
            ]
          },
          "metadata": {},
          "execution_count": 52
        },
        {
          "output_type": "display_data",
          "data": {
            "text/plain": [
              "<Figure size 432x288 with 1 Axes>"
            ],
            "image/png": "[encoded data removed]"
          },
          "metadata": {
            "needs_background": "light"
          }
        }
      ]
    },
    {
      "cell_type": "code",
      "source": [
        "loan02.groupby('loan_status_bin')['emp_length'].mean().plot.bar()"
      ],
      "metadata": {
        "colab": {
          "base_uri": "https://localhost:8080/",
          "height": 295
        },
        "id": "eTVS4lTPU9v3",
        "outputId": "c2d9722a-3fa1-4b8c-8553-61c8bcbd7588"
      },
      "execution_count": 53,
      "outputs": [
        {
          "output_type": "execute_result",
          "data": {
            "text/plain": [
              "<matplotlib.axes._subplots.AxesSubplot at 0x7effd45c9690>"
            ]
          },
          "metadata": {},
          "execution_count": 53
        },
        {
          "output_type": "display_data",
          "data": {
            "text/plain": [
              "<Figure size 432x288 with 1 Axes>"
            ],
            "image/png": "[encoded data removed]"
          },
          "metadata": {
            "needs_background": "light"
          }
        }
      ]
    },
    {
      "cell_type": "markdown",
      "source": [
        "**From above Three graphs we can see that, there is not much relation between employee experience and loan status**"
      ],
      "metadata": {
        "id": "yAr3ooc-_oRv"
      }
    },
    {
      "cell_type": "code",
      "source": [
        "sns.set_style(\"darkgrid\")\n",
        "sns.displot(data=loan02, x='annual_inc', hue='loan_status',aspect=3, kde=True);"
      ],
      "metadata": {
        "colab": {
          "base_uri": "https://localhost:8080/",
          "height": 369
        },
        "id": "rFGAS33nfJ_s",
        "outputId": "bd6fc7d2-62a2-4873-902e-2c2e9c5b6f33"
      },
      "execution_count": 54,
      "outputs": [
        {
          "output_type": "display_data",
          "data": {
            "text/plain": [
              "<Figure size 1176.38x360 with 1 Axes>"
            ],
            "image/png": "[encoded data removed]"
          },
          "metadata": {}
        }
      ]
    },
    {
      "cell_type": "markdown",
      "source": [
        "**Above graph shows distribution of annual income of employee whos loan was charged off**"
      ],
      "metadata": {
        "id": "xUJbdsmD_6H9"
      }
    },
    {
      "cell_type": "code",
      "source": [
        "loan02.groupby('loan_status')['annual_inc'].describe()"
      ],
      "metadata": {
        "colab": {
          "base_uri": "https://localhost:8080/",
          "height": 143
        },
        "id": "WuCjG1adfqHE",
        "outputId": "1d2f1f70-70ff-4d8c-d6a0-a30c74b306c1"
      },
      "execution_count": 55,
      "outputs": [
        {
          "output_type": "execute_result",
          "data": {
            "text/plain": [
              "               count          mean           std     min      25%      50%  \\\n",
              "loan_status                                                                  \n",
              "Charged Off   2314.0  60812.888077  30508.714064  9600.0  39996.0  55000.0   \n",
              "Fully Paid   11618.0  67314.676527  33431.615049  6000.0  43000.0  60000.0   \n",
              "\n",
              "                 75%       max  \n",
              "loan_status                     \n",
              "Charged Off  75000.0  195800.0  \n",
              "Fully Paid   84000.0  199992.0  "
            ],
            "text/html": [
              "\n",
              "  <div id=\"df-5f46e92b-11a4-4780-b15d-df3442287d72\">\n",
              "    <div class=\"colab-df-container\">\n",
              "      <div>\n",
              "<style scoped>\n",
              "    .dataframe tbody tr th:only-of-type {\n",
              "        vertical-align: middle;\n",
              "    }\n",
              "\n",
              "    .dataframe tbody tr th {\n",
              "        vertical-align: top;\n",
              "    }\n",
              "\n",
              "    .dataframe thead th {\n",
              "        text-align: right;\n",
              "    }\n",
              "</style>\n",
              "<table border=\"1\" class=\"dataframe\">\n",
              "  <thead>\n",
              "    <tr style=\"text-align: right;\">\n",
              "      <th></th>\n",
              "      <th>count</th>\n",
              "      <th>mean</th>\n",
              "      <th>std</th>\n",
              "      <th>min</th>\n",
              "      <th>25%</th>\n",
              "      <th>50%</th>\n",
              "      <th>75%</th>\n",
              "      <th>max</th>\n",
              "    </tr>\n",
              "    <tr>\n",
              "      <th>loan_status</th>\n",
              "      <th></th>\n",
              "      <th></th>\n",
              "      <th></th>\n",
              "      <th></th>\n",
              "      <th></th>\n",
              "      <th></th>\n",
              "      <th></th>\n",
              "      <th></th>\n",
              "    </tr>\n",
              "  </thead>\n",
              "  <tbody>\n",
              "    <tr>\n",
              "      <th>Charged Off</th>\n",
              "      <td>2314.0</td>\n",
              "      <td>60812.888077</td>\n",
              "      <td>30508.714064</td>\n",
              "      <td>9600.0</td>\n",
              "      <td>39996.0</td>\n",
              "      <td>55000.0</td>\n",
              "      <td>75000.0</td>\n",
              "      <td>195800.0</td>\n",
              "    </tr>\n",
              "    <tr>\n",
              "      <th>Fully Paid</th>\n",
              "      <td>11618.0</td>\n",
              "      <td>67314.676527</td>\n",
              "      <td>33431.615049</td>\n",
              "      <td>6000.0</td>\n",
              "      <td>43000.0</td>\n",
              "      <td>60000.0</td>\n",
              "      <td>84000.0</td>\n",
              "      <td>199992.0</td>\n",
              "    </tr>\n",
              "  </tbody>\n",
              "</table>\n",
              "</div>\n",
              "      <button class=\"colab-df-convert\" onclick=\"convertToInteractive('df-5f46e92b-11a4-4780-b15d-df3442287d72')\"\n",
              "              title=\"Convert this dataframe to an interactive table.\"\n",
              "              style=\"display:none;\">\n",
              "        \n",
              "  <svg xmlns=\"http://www.w3.org/2000/svg\" height=\"24px\"viewBox=\"0 0 24 24\"\n",
              "       width=\"24px\">\n",
              "    <path d=\"M0 0h24v24H0V0z\" fill=\"none\"/>\n",
              "    <path d=\"M18.56 5.44l.94 2.06.94-2.06 2.06-.94-2.06-.94-.94-2.06-.94 2.06-2.06.94zm-11 1L8.5 8.5l.94-2.06 2.06-.94-2.06-.94L8.5 2.5l-.94 2.06-2.06.94zm10 10l.94 2.06.94-2.06 2.06-.94-2.06-.94-.94-2.06-.94 2.06-2.06.94z\"/><path d=\"M17.41 7.96l-1.37-1.37c-.4-.4-.92-.59-1.43-.59-.52 0-1.04.2-1.43.59L10.3 9.45l-7.72 7.72c-.78.78-.78 2.05 0 2.83L4 21.41c.39.39.9.59 1.41.59.51 0 1.02-.2 1.41-.59l7.78-7.78 2.81-2.81c.8-.78.8-2.07 0-2.86zM5.41 20L4 18.59l7.72-7.72 1.47 1.35L5.41 20z\"/>\n",
              "  </svg>\n",
              "      </button>\n",
              "      \n",
              "  <style>\n",
              "    .colab-df-container {\n",
              "      display:flex;\n",
              "      flex-wrap:wrap;\n",
              "      gap: 12px;\n",
              "    }\n",
              "\n",
              "    .colab-df-convert {\n",
              "      background-color: #E8F0FE;\n",
              "      border: none;\n",
              "      border-radius: 50%;\n",
              "      cursor: pointer;\n",
              "      display: none;\n",
              "      fill: #1967D2;\n",
              "      height: 32px;\n",
              "      padding: 0 0 0 0;\n",
              "      width: 32px;\n",
              "    }\n",
              "\n",
              "    .colab-df-convert:hover {\n",
              "      background-color: #E2EBFA;\n",
              "      box-shadow: 0px 1px 2px rgba(60, 64, 67, 0.3), 0px 1px 3px 1px rgba(60, 64, 67, 0.15);\n",
              "      fill: #174EA6;\n",
              "    }\n",
              "\n",
              "    [theme=dark] .colab-df-convert {\n",
              "      background-color: #3B4455;\n",
              "      fill: #D2E3FC;\n",
              "    }\n",
              "\n",
              "    [theme=dark] .colab-df-convert:hover {\n",
              "      background-color: #434B5C;\n",
              "      box-shadow: 0px 1px 3px 1px rgba(0, 0, 0, 0.15);\n",
              "      filter: drop-shadow(0px 1px 2px rgba(0, 0, 0, 0.3));\n",
              "      fill: #FFFFFF;\n",
              "    }\n",
              "  </style>\n",
              "\n",
              "      <script>\n",
              "        const buttonEl =\n",
              "          document.querySelector('#df-5f46e92b-11a4-4780-b15d-df3442287d72 button.colab-df-convert');\n",
              "        buttonEl.style.display =\n",
              "          google.colab.kernel.accessAllowed ? 'block' : 'none';\n",
              "\n",
              "        async function convertToInteractive(key) {\n",
              "          const element = document.querySelector('#df-5f46e92b-11a4-4780-b15d-df3442287d72');\n",
              "          const dataTable =\n",
              "            await google.colab.kernel.invokeFunction('convertToInteractive',\n",
              "                                                     [key], {});\n",
              "          if (!dataTable) return;\n",
              "\n",
              "          const docLinkHtml = 'Like what you see? Visit the ' +\n",
              "            '<a target=\"_blank\" href=https://colab.research.google.com/notebooks/data_table.ipynb>data table notebook</a>'\n",
              "            + ' to learn more about interactive tables.';\n",
              "          element.innerHTML = '';\n",
              "          dataTable['output_type'] = 'display_data';\n",
              "          await google.colab.output.renderOutput(dataTable, element);\n",
              "          const docLink = document.createElement('div');\n",
              "          docLink.innerHTML = docLinkHtml;\n",
              "          element.appendChild(docLink);\n",
              "        }\n",
              "      </script>\n",
              "    </div>\n",
              "  </div>\n",
              "  "
            ]
          },
          "metadata": {},
          "execution_count": 55
        }
      ]
    },
    {
      "cell_type": "code",
      "source": [
        "plt.figure(figsize=(14,6))\n",
        "sns.countplot(x='emp_length',data=loan02,  hue='loan_status')"
      ],
      "metadata": {
        "colab": {
          "base_uri": "https://localhost:8080/",
          "height": 407
        },
        "id": "F1bpKalXgQVV",
        "outputId": "3c74e9d1-9d6a-4a54-ec98-412caaf1ed7d"
      },
      "execution_count": 56,
      "outputs": [
        {
          "output_type": "execute_result",
          "data": {
            "text/plain": [
              "<matplotlib.axes._subplots.AxesSubplot at 0x7effd4779c90>"
            ]
          },
          "metadata": {},
          "execution_count": 56
        },
        {
          "output_type": "display_data",
          "data": {
            "text/plain": [
              "<Figure size 1008x432 with 1 Axes>"
            ],
            "image/png": "[encoded data removed]"
          },
          "metadata": {}
        }
      ]
    },
    {
      "cell_type": "markdown",
      "source": [
        "###**Conclusion - 1**\n",
        "**we can see that higher experience is related to higher charged off, ratio is consistence across graph, experience does not play much role**"
      ],
      "metadata": {
        "id": "7lJn0hdZANJ9"
      }
    },
    {
      "cell_type": "code",
      "source": [
        "plt.figure(figsize=(12,6))\n",
        "sns.countplot(x='grade',data=loan02,hue='loan_status', order=sorted(loan02['grade'].unique()) );"
      ],
      "metadata": {
        "colab": {
          "base_uri": "https://localhost:8080/",
          "height": 388
        },
        "id": "4dNU1nVKhBp0",
        "outputId": "92cd0dae-d0d2-471a-c05e-49a65f9ff7b1"
      },
      "execution_count": 57,
      "outputs": [
        {
          "output_type": "display_data",
          "data": {
            "text/plain": [
              "<Figure size 864x432 with 1 Axes>"
            ],
            "image/png": "[encoded data removed]"
          },
          "metadata": {}
        }
      ]
    },
    {
      "cell_type": "code",
      "source": [
        "plt.figure(figsize=(16,6))\n",
        "sns.countplot(x='sub_grade',data=loan02,order = sorted(loan02['sub_grade'].unique()),hue='loan_status')"
      ],
      "metadata": {
        "colab": {
          "base_uri": "https://localhost:8080/",
          "height": 407
        },
        "id": "DWqIbvGRhryR",
        "outputId": "a7bf8884-3c2c-4b32-d094-4681b0a69732"
      },
      "execution_count": 58,
      "outputs": [
        {
          "output_type": "execute_result",
          "data": {
            "text/plain": [
              "<matplotlib.axes._subplots.AxesSubplot at 0x7effcf89e050>"
            ]
          },
          "metadata": {},
          "execution_count": 58
        },
        {
          "output_type": "display_data",
          "data": {
            "text/plain": [
              "<Figure size 1152x432 with 1 Axes>"
            ],
            "image/png": "[encoded data removed]"
          },
          "metadata": {}
        }
      ]
    },
    {
      "cell_type": "markdown",
      "source": [
        "###**Conclusion - 2**\n",
        "**We can see in loan grade and sub loan grade graph that, charged off loan are related**\n"
      ],
      "metadata": {
        "id": "8XUKJikaAglO"
      }
    },
    {
      "cell_type": "code",
      "source": [
        "plt.figure(figsize=(14,6))\n",
        "sns.countplot(data=loan02,x='purpose', hue='loan_status' );\n",
        "plt.xticks(rotation=90);"
      ],
      "metadata": {
        "colab": {
          "base_uri": "https://localhost:8080/",
          "height": 480
        },
        "id": "QHE6UAhRkF1y",
        "outputId": "4323fa58-70d4-4ddb-dc99-00d87f6de6e6"
      },
      "execution_count": 59,
      "outputs": [
        {
          "output_type": "display_data",
          "data": {
            "text/plain": [
              "<Figure size 1008x432 with 1 Axes>"
            ],
            "image/png": "[encoded data removed]"
          },
          "metadata": {}
        }
      ]
    },
    {
      "cell_type": "markdown",
      "source": [
        "###**Conclusion - 3**\n",
        "**From Above Graph we can see that most of the charged off loan are from debt consolidation purpose**\n"
      ],
      "metadata": {
        "id": "rcVacwdHB6eG"
      }
    },
    {
      "cell_type": "code",
      "source": [
        "sns.countplot(data=loan02,y='term', hue='loan_status' );"
      ],
      "metadata": {
        "colab": {
          "base_uri": "https://localhost:8080/",
          "height": 279
        },
        "id": "CJTy9ov1kpDO",
        "outputId": "e6ab61f5-05ac-466c-a3f3-90becbb9e822"
      },
      "execution_count": 60,
      "outputs": [
        {
          "output_type": "display_data",
          "data": {
            "text/plain": [
              "<Figure size 432x288 with 1 Axes>"
            ],
            "image/png": "[encoded data removed]"
          },
          "metadata": {}
        }
      ]
    },
    {
      "cell_type": "markdown",
      "source": [
        "###**Conclusion - 4**\n",
        "**Lower the loan duration has lower chances of charged off.**\n",
        "\n"
      ],
      "metadata": {
        "id": "1wXqxi2bCS99"
      }
    }
  ]
}